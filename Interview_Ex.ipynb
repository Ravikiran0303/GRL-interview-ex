{
 "cells": [
  {
   "cell_type": "code",
   "execution_count": 2,
   "id": "ad3bdb17-4fa9-4000-82b9-80637aa9c375",
   "metadata": {},
   "outputs": [
    {
     "name": "stdout",
     "output_type": "stream",
     "text": [
      "3\n",
      "2 1 1\n"
     ]
    }
   ],
   "source": [
    "n = int(input())\n",
    "\n",
    "word_count = {}\n",
    "\n",
    "word_order = []\n",
    "\n",
    "\n",
    "for i in range(n):\n",
    "    word = input().strip()\n",
    "    if word not in word_count:\n",
    "        word_count[word] = 1\n",
    "        word_order.append(word)  \n",
    "    else:\n",
    "        word_count[word] += 1\n",
    "\n",
    "\n",
    "print(len(word_order))\n",
    "\n",
    "print(' '.join(str(word_count[word]) for word in word_order))\n"
   ]
  },
  {
   "cell_type": "code",
   "execution_count": 3,
   "id": "c4bcc715",
   "metadata": {},
   "outputs": [
    {
     "name": "stdout",
     "output_type": "stream",
     "text": [
      "Valid\n",
      "Valid\n",
      "Invalid\n",
      "Valid\n",
      "Invalid\n",
      "Invalid\n"
     ]
    }
   ],
   "source": [
    "def is_valid_credit_card(card_number):\n",
    "    if not (card_number[0] in '456'):\n",
    "        return \"Invalid\"\n",
    "    \n",
    "    card_digits = card_number.replace(\"-\", \"\")\n",
    "    \n",
    "    if len(card_digits) != 16 or not card_digits.isdigit():\n",
    "        return \"Invalid\"\n",
    "    \n",
    "    if '-' in card_number:\n",
    "        groups = card_number.split('-')\n",
    "        if len(groups) != 4 or any(len(group) != 4 for group in groups):\n",
    "            return \"Invalid\"\n",
    "    \n",
    "    for i in range(13):  \n",
    "        if card_digits[i] == card_digits[i+1] == card_digits[i+2] == card_digits[i+3]:\n",
    "            return \"Invalid\"\n",
    "    \n",
    "    return \"Valid\"\n",
    "\n",
    "n = int(input())\n",
    "for _ in range(n):\n",
    "    card_number = input().strip()  \n",
    "    print(is_valid_credit_card(card_number))\n"
   ]
  },
  {
   "cell_type": "code",
   "execution_count": null,
   "id": "cd4bf829",
   "metadata": {},
   "outputs": [],
   "source": []
  },
  {
   "cell_type": "code",
   "execution_count": null,
   "id": "862276e1",
   "metadata": {},
   "outputs": [],
   "source": []
  }
 ],
 "metadata": {
  "kernelspec": {
   "display_name": "Python 3 (ipykernel)",
   "language": "python",
   "name": "python3"
  },
  "language_info": {
   "codemirror_mode": {
    "name": "ipython",
    "version": 3
   },
   "file_extension": ".py",
   "mimetype": "text/x-python",
   "name": "python",
   "nbconvert_exporter": "python",
   "pygments_lexer": "ipython3",
   "version": "3.10.14"
  }
 },
 "nbformat": 4,
 "nbformat_minor": 5
}
